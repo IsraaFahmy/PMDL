{
  "nbformat": 4,
  "nbformat_minor": 0,
  "metadata": {
    "colab": {
      "name": "Copy of ms2.ipynb",
      "provenance": [],
      "collapsed_sections": []
    },
    "kernelspec": {
      "name": "python3",
      "display_name": "Python 3"
    },
    "language_info": {
      "name": "python"
    },
    "accelerator": "GPU"
  },
  "cells": [
    {
      "cell_type": "code",
      "metadata": {
        "id": "u9rtwae1-hBr"
      },
      "source": [
        "import pandas as pd\n",
        "import numpy as np\n",
        "import re\n",
        "import torch\n",
        "import torch.nn as nn\n",
        "import random\n",
        "import torch.nn.functional as F\n",
        "from gensim.models import FastText\n",
        "device = torch.device(\"cuda\" if torch.cuda.is_available() else \"cpu\")"
      ],
      "execution_count": 4,
      "outputs": []
    },
    {
      "cell_type": "code",
      "metadata": {
        "colab": {
          "base_uri": "https://localhost:8080/"
        },
        "id": "DHriJgo0MWMY",
        "outputId": "a7121791-72b2-43f9-d8da-467b6cf123bf"
      },
      "source": [
        "!pip install rouge"
      ],
      "execution_count": 5,
      "outputs": [
        {
          "output_type": "stream",
          "text": [
            "Requirement already satisfied: rouge in /usr/local/lib/python3.7/dist-packages (1.0.0)\n",
            "Requirement already satisfied: six in /usr/local/lib/python3.7/dist-packages (from rouge) (1.15.0)\n"
          ],
          "name": "stdout"
        }
      ]
    },
    {
      "cell_type": "code",
      "metadata": {
        "colab": {
          "base_uri": "https://localhost:8080/"
        },
        "id": "LX1OpRY0-q1y",
        "outputId": "c3077eef-d03d-492f-8d9c-dc72bf123c23"
      },
      "source": [
        "from google.colab import drive\n",
        "drive.mount('/content/drive')"
      ],
      "execution_count": 6,
      "outputs": [
        {
          "output_type": "stream",
          "text": [
            "Mounted at /content/drive\n"
          ],
          "name": "stdout"
        }
      ]
    },
    {
      "cell_type": "code",
      "metadata": {
        "colab": {
          "base_uri": "https://localhost:8080/"
        },
        "id": "3gFlpXl0-3fh",
        "outputId": "9f835a90-27cd-444c-c1f2-48f438f4a522"
      },
      "source": [
        "data = pd.read_csv('/content/drive/Shareddrives/PMDL-spring21/Phase 2/Reviews.csv')\n",
        "len(data)"
      ],
      "execution_count": 7,
      "outputs": [
        {
          "output_type": "execute_result",
          "data": {
            "text/plain": [
              "568454"
            ]
          },
          "metadata": {
            "tags": []
          },
          "execution_count": 7
        }
      ]
    },
    {
      "cell_type": "code",
      "metadata": {
        "id": "3SgDGfVC_pO5"
      },
      "source": [
        "x = data['Text']\n",
        "y = data['Summary']"
      ],
      "execution_count": 8,
      "outputs": []
    },
    {
      "cell_type": "code",
      "metadata": {
        "id": "tknGybZW_qGn"
      },
      "source": [
        "def clean(text):\n",
        "  text = str(text)\n",
        "  text = text.lower()\n",
        "  text = re.sub(r'\\'s',r'\\tis',text)\n",
        "  text = re.sub(r'\\'ll',r'\\twill',text)\n",
        "  text = re.sub(r'\\'m',r'\\tam',text)\n",
        "  text = re.sub(r'\\'re',r'\\tare',text)\n",
        "  text = re.sub(r'\\'d',r'\\twould',text)\n",
        "  text = re.sub(r'n\\'t',r'\\tnot',text)\n",
        "  text = re.sub('[^a-zA-Z0-9]',' ',text) \n",
        "  text = re.sub(r\"[-()\\\"#/@;:<>{}`+=~|.!?,]\", \"\", text)\n",
        "  return text"
      ],
      "execution_count": 9,
      "outputs": []
    },
    {
      "cell_type": "code",
      "metadata": {
        "colab": {
          "base_uri": "https://localhost:8080/"
        },
        "id": "NNdP0Qzw_sdG",
        "outputId": "0cbcc721-2d6b-4627-d3f5-58d91b58b5a6"
      },
      "source": [
        "cleaned_source = list(map(clean,x))\n",
        "cleaned_summary = list(map(clean,y))\n",
        "\n",
        "for i in range(len(cleaned_summary)):\n",
        "    cleaned_summary[i] = \"<START> \" + cleaned_summary[i] + \" <END>\"\n",
        "    \n",
        "print(cleaned_source[11])\n",
        "print(cleaned_summary[11])"
      ],
      "execution_count": 10,
      "outputs": [
        {
          "output_type": "stream",
          "text": [
            "one of my boys needed to lose some weight and the other did not   i put this food on the floor for the chubby guy  and the protein rich  no by product food up higher where only my skinny boy can jump   the higher food sits going stale   they both really go for this food   and my chubby boy has been losing about an ounce a week \n",
            "<START> my cats love this  diet  food better than their regular food <END>\n"
          ],
          "name": "stdout"
        }
      ]
    },
    {
      "cell_type": "code",
      "metadata": {
        "colab": {
          "base_uri": "https://localhost:8080/"
        },
        "id": "n6j2HcI5_x6U",
        "outputId": "06fa57e5-c189-49cd-9e6d-c248386122e0"
      },
      "source": [
        "min_source_length = 1999999\n",
        "max_source_length = 0\n",
        "min_target_length = 199999\n",
        "max_target_length = 0\n",
        "\n",
        "for i in range(len(data)):\n",
        "  min_source_length = min(min_source_length,len(cleaned_source[i].split()))\n",
        "  min_target_length = min(min_target_length,len(cleaned_summary[i].split()))\n",
        "  max_source_length = max(max_source_length,len(cleaned_source[i].split()))\n",
        "  max_target_length = max(max_target_length,len(cleaned_summary[i].split()))\n",
        "\n",
        "print(\"Minimum source length is:  \",min_source_length)\n",
        "print(\"Minimum target length is:  \",min_target_length)\n",
        "print(\"Maximum source length is:  \",max_source_length)\n",
        "print(\"Maximum target length is:  \",max_target_length)"
      ],
      "execution_count": 11,
      "outputs": [
        {
          "output_type": "stream",
          "text": [
            "Minimum source length is:   3\n",
            "Minimum target length is:   2\n",
            "Maximum source length is:   3529\n",
            "Maximum target length is:   50\n"
          ],
          "name": "stdout"
        }
      ]
    },
    {
      "cell_type": "code",
      "metadata": {
        "colab": {
          "base_uri": "https://localhost:8080/"
        },
        "id": "DiBn9oT1_2At",
        "outputId": "f5ce483e-07ed-4ae7-d580-c15c90d69407"
      },
      "source": [
        "new_source = []\n",
        "new_summary = []\n",
        "\n",
        "for i in range(len(cleaned_source)):\n",
        "  if len(cleaned_source[i].split()) <= 50 and len(cleaned_summary[i].split()) <= 15 :\n",
        "    new_source.append(cleaned_source[i])\n",
        "    new_summary.append(cleaned_summary[i])\n",
        "\n",
        "max_source_length = 50\n",
        "max_summary_length = 15\n",
        "\n",
        "print(len(new_source))\n",
        "print(len(new_summary))\n",
        "\n",
        "new_source = new_source[:30000]\n",
        "new_summary = new_summary[:30000]"
      ],
      "execution_count": 12,
      "outputs": [
        {
          "output_type": "stream",
          "text": [
            "245024\n",
            "245024\n"
          ],
          "name": "stdout"
        }
      ]
    },
    {
      "cell_type": "code",
      "metadata": {
        "colab": {
          "base_uri": "https://localhost:8080/"
        },
        "id": "_-TbCAsM_47W",
        "outputId": "8ed7ff8d-5f11-4350-e829-5a6a0485b9cc"
      },
      "source": [
        "sentences = new_source + new_summary\n",
        "sent_ted = []\n",
        "for sent in sentences:\n",
        "  sent_ted_child = sent.split()\n",
        "  sent_ted.append(sent_ted_child)\n",
        "\n",
        "print(sent_ted[0])"
      ],
      "execution_count": 13,
      "outputs": [
        {
          "output_type": "stream",
          "text": [
            "['i', 'have', 'bought', 'several', 'of', 'the', 'vitality', 'canned', 'dog', 'food', 'products', 'and', 'have', 'found', 'them', 'all', 'to', 'be', 'of', 'good', 'quality', 'the', 'product', 'looks', 'more', 'like', 'a', 'stew', 'than', 'a', 'processed', 'meat', 'and', 'it', 'smells', 'better', 'my', 'labrador', 'is', 'finicky', 'and', 'she', 'appreciates', 'this', 'product', 'better', 'than', 'most']\n"
          ],
          "name": "stdout"
        }
      ]
    },
    {
      "cell_type": "code",
      "metadata": {
        "colab": {
          "base_uri": "https://localhost:8080/"
        },
        "id": "d2GRi6ZS_8Jn",
        "outputId": "f147fab0-68ba-4ac2-cca3-a2a3b63beeb6"
      },
      "source": [
        "import pickle\n",
        "model_ted = pickle.load(open('/content/drive/Shareddrives/PMDL-spring21/Phase 2/128_emb.pkl', 'rb'))\n",
        "weights = model_ted.wv\n",
        "print(model_ted.wv.most_similar(\"milk\"))"
      ],
      "execution_count": 14,
      "outputs": [
        {
          "output_type": "stream",
          "text": [
            "[('skim', 0.5355638265609741), ('milks', 0.5320084095001221), ('water', 0.5292779207229614), ('foggy', 0.5185288190841675), ('creamer', 0.5173667669296265), ('wipping', 0.5089503526687622), ('raisan', 0.5022526383399963), ('floz', 0.4988960325717926), ('truvia', 0.4962727725505829), ('frother', 0.4953957200050354)]\n"
          ],
          "name": "stdout"
        }
      ]
    },
    {
      "cell_type": "code",
      "metadata": {
        "id": "U2VM8t7l_86k"
      },
      "source": [
        "from collections import OrderedDict \n",
        "\n",
        "word2Index_enc = {}\n",
        "word2Index_dec = {}\n",
        "word2Index_dec_big = {}\n",
        "\n",
        "ind2Word_enc = {}\n",
        "ind2Word_dec = {}\n",
        "ind2Word_dec_big = {}\n",
        "\n",
        "word2PsuInd_dec = {}\n",
        "psuInd2Word_dec = {}\n",
        "\n",
        "encoder_paragraph = list(set((' '.join(new_source)).split()))\n",
        "\n",
        "decoder_paragraph_list = list((' '.join(new_summary)).split())\n",
        "decoder_dict = OrderedDict()\n",
        "for word in decoder_paragraph_list:\n",
        "  try:\n",
        "    decoder_dict[word] = decoder_dict[word] + 1\n",
        "  except:\n",
        "    decoder_dict[word] = 1\n",
        "\n",
        "ind2Word_enc[0] = '<UNK>'\n",
        "ind2Word_dec[0] = '<UNK>'\n",
        "word2Index_enc['<UNK>'] = 0\n",
        "word2Index_dec['<UNK>'] = 0\n",
        "ind2Word_dec_big[0] = '<UNK>'\n",
        "word2Index_dec_big['<UNK>'] = 0\n",
        "word2PsuInd_dec['<UNK>'] = 0\n",
        "psuInd2Word_dec[0] = '<UNK>'\n",
        "\n",
        "dec_index = 1\n",
        "for (decoder_dict_word, decoder_dict_number) in decoder_dict.items():\n",
        "  word2Index_dec_big[decoder_dict_word] = dec_index\n",
        "  ind2Word_dec_big[dec_index] = decoder_dict_word\n",
        "  if decoder_dict_number >= 3 :\n",
        "    word2Index_dec[decoder_dict_word] = dec_index\n",
        "    ind2Word_dec[dec_index] = decoder_dict_word\n",
        "    psuedo_index = len(word2PsuInd_dec.keys())\n",
        "    word2PsuInd_dec[decoder_dict_word] = psuedo_index\n",
        "    psuInd2Word_dec[psuedo_index] = decoder_dict_word\n",
        "  dec_index+=1\n",
        "\n",
        "enc_index = 1\n",
        "for index,word in enumerate(encoder_paragraph):\n",
        "  if word != ' ':\n",
        "    word2Index_enc[word] = enc_index\n",
        "    ind2Word_enc[enc_index] = word \n",
        "    enc_index+=1"
      ],
      "execution_count": 15,
      "outputs": []
    },
    {
      "cell_type": "code",
      "metadata": {
        "id": "HRZO7-MOADT2"
      },
      "source": [
        "encoder_input = [[word2Index_enc[word] for word in sentence.split() if word in word2Index_enc.keys()] for sentence in new_source ]\n",
        "decoder_input = [[word2Index_dec_big[word] for word in sentence.split() if word in word2Index_dec_big.keys()] for sentence in new_summary ]"
      ],
      "execution_count": 16,
      "outputs": []
    },
    {
      "cell_type": "code",
      "metadata": {
        "id": "jlJAKWPcAINT"
      },
      "source": [
        "encoder_tensor = [torch.tensor(li,dtype=torch.long,device=device).view(-1, 1) for li in encoder_input]\n",
        "decoder_tensor = [torch.tensor(li,dtype=torch.long,device=device).view(-1, 1) for li in decoder_input]"
      ],
      "execution_count": 17,
      "outputs": []
    },
    {
      "cell_type": "code",
      "metadata": {
        "id": "Ua0AKzOAAJct"
      },
      "source": [
        "class Encoder(nn.Module):\n",
        "  def __init__(self,input_vocab_size,hidden_size,num_layers=1,bidirectional=False):\n",
        "    super(Encoder,self).__init__()\n",
        "    self.bidirectional = bidirectional\n",
        "    self.num_layers = num_layers\n",
        "    self.hidden_size = hidden_size\n",
        "    self.input_vocab_size = input_vocab_size\n",
        "    self.gru_layer = nn.GRU(input_size = self.hidden_size,hidden_size = self.hidden_size,num_layers = self.num_layers)\n",
        "\n",
        "  def forward(self,input_,prev_hidden_state):\n",
        "    input_word = ind2Word_enc[input_.data.tolist()[0]]\n",
        "    embedded_outputs = torch.tensor(weights[input_word], device = device).view(1,1,-1)\n",
        "    output,prev_hidden_state = self.gru_layer(embedded_outputs,prev_hidden_state)  #output is batch_size times hidden_size\n",
        "    return output,prev_hidden_state\n",
        "\n",
        "  def init_hidden(self):\n",
        "    return torch.zeros(1,1,self.hidden_size,device=device)"
      ],
      "execution_count": 18,
      "outputs": []
    },
    {
      "cell_type": "code",
      "metadata": {
        "id": "ARltQ7OPAMuA"
      },
      "source": [
        "class AttentionDecoder(nn.Module):\n",
        "  def __init__(self,output_vocab_size,hidden_size,max_length_encoder,dropout_value,num_layers=1):\n",
        "      super(AttentionDecoder,self).__init__()\n",
        "      self.hidden_size = hidden_size\n",
        "      self.num_layers = num_layers\n",
        "      self.output_vocab_size = output_vocab_size\n",
        "      self.dropout_p = dropout_value\n",
        "      self.max_length_encoder = max_length_encoder\n",
        "      self.embedding_layer = nn.Embedding(self.output_vocab_size,self.hidden_size)\n",
        "      self.attention_layer = nn.Linear(self.hidden_size*2,self.max_length_encoder)\n",
        "      self.attention_combine = nn.Linear(self.hidden_size*2,self.hidden_size)\n",
        "\n",
        "      self.s_layer = nn.Linear(self.hidden_size, 1)\n",
        "      self.x_layer = nn.Linear(self.hidden_size, 1)\n",
        "      self.context_layer = nn.Linear(self.hidden_size, 1)\n",
        "      self.linear_pgen = nn.Linear(3, 1)\n",
        "\n",
        "      self.gru_layer = nn.GRU(self.hidden_size,self.hidden_size)\n",
        "      self.output_layer = nn.Linear(self.hidden_size,self.output_vocab_size)\n",
        "      self.dropout_layer = nn.Dropout(self.dropout_p)    \n",
        "\n",
        "  def forward(self,input_,prev_hidden_state,encoder_output,prev_unk_word):\n",
        "      input_word = ind2Word_dec_big[input_.data.tolist()[0]]\n",
        "      if input_word == '<UNK>':\n",
        "        embedded_outputs = torch.tensor(weights[prev_unk_word], device = device).view(1,1,-1)\n",
        "      else:\n",
        "        embedded_outputs = torch.tensor(weights[input_word], device = device).view(1,1,-1)\n",
        "        \n",
        "      embeddings_dropout = self.dropout_layer(embedded_outputs)\n",
        "      attention_layer_output = self.attention_layer(torch.cat((embeddings_dropout[0],prev_hidden_state[0]),1))\n",
        "      attention_weights = nn.functional.softmax(attention_layer_output,dim=1)\n",
        "      attention_applied = torch.bmm(attention_weights.unsqueeze(0),encoder_output.unsqueeze(0))\n",
        "      attention_combine_logits = self.attention_combine(torch.cat((embeddings_dropout[0],attention_applied[0]),1)).unsqueeze(0)  #since gru requires a batch dimension\n",
        "      attention_combine_relu = nn.functional.relu(attention_combine_logits)\n",
        "\n",
        "      s_output = self.s_layer(prev_hidden_state[0])\n",
        "      x_output = self.x_layer(embeddings_dropout[0])\n",
        "      context = torch.flatten(attention_applied)\n",
        "      context_weights = self.context_layer(attention_applied)\n",
        "      sx = torch.cat((s_output[0],x_output[0]),0)\n",
        "      sxc = torch.cat((sx,context_weights[0][0]),0)\n",
        "      linear_pgen = self.linear_pgen(sxc)\n",
        "      m = nn.Sigmoid()\n",
        "      pgen = m(linear_pgen)\n",
        "\n",
        "      output,hidden = self.gru_layer(attention_combine_relu,prev_hidden_state)\n",
        "      output_logits = self.output_layer(output)\n",
        "      output_softmax = nn.functional.log_softmax(output_logits[0],dim=1)\n",
        "      return output_softmax,hidden,attention_weights,pgen\n",
        "\n",
        "  def init_hidden(self):\n",
        "    return torch.zeros(1,1,self.hidden_size,device=device)"
      ],
      "execution_count": 19,
      "outputs": []
    },
    {
      "cell_type": "code",
      "metadata": {
        "id": "f-Sl4xoCATZg"
      },
      "source": [
        "teacher_forcing_ratio = 0.5\n",
        "\n",
        "def train(encoder, decoder, input_tensor, target_tensor, encoder_optimizer, decoder_optimizer, criterion, max_length, iters):\n",
        "\n",
        "  encoder_optimizer.zero_grad()\n",
        "  decoder_optimizer.zero_grad()\n",
        "\n",
        "  prev_unk_word = ''\n",
        "\n",
        "  encoder_hidden = encoder.init_hidden()\n",
        "\n",
        "  encoder_outputs = torch.zeros(max_length, encoder.hidden_size, device = device)\n",
        "\n",
        "  input_length = input_tensor.size(0)\n",
        "  output_length = target_tensor.size(0)\n",
        "\n",
        "  loss = 0\n",
        "\n",
        "  for encoder_index in range(0, input_length):\n",
        "    encoder_output,encoder_hidden = encoder(input_tensor[encoder_index], encoder_hidden)\n",
        "    encoder_outputs[encoder_index] = encoder_output[0,0]\n",
        "\n",
        "  decoder_input = torch.tensor([word2Index_dec['<START>']],device=device)   \n",
        "  decoder_hidden = encoder_hidden\n",
        "  use_teacher_forcing = True if random.random() < teacher_forcing_ratio else False\n",
        "\n",
        "  extended_vocab = psuInd2Word_dec.copy()\n",
        "  reverse_extended_vocab = word2PsuInd_dec.copy()\n",
        "  duplicate_words = {}\n",
        "  extend_key = len(word2Index_dec.keys())\n",
        "  input_list = input_tensor.tolist()\n",
        "  i =0\n",
        "  for input_word in input_list:\n",
        "    if ind2Word_enc[input_word[0]] in word2Index_dec.keys():\n",
        "      duplicate_words[i] = word2PsuInd_dec[ind2Word_enc[input_word[0]]]\n",
        "    else:\n",
        "      extended_vocab[extend_key] = ind2Word_enc[input_word[0]]\n",
        "      reverse_extended_vocab[ind2Word_enc[input_word[0]]] = extend_key\n",
        "      extend_key += 1\n",
        "    i = i+1\n",
        "\n",
        "  if use_teacher_forcing:\n",
        "    for decoder_index in range(output_length):\n",
        "      decoder_output,decoder_hidden,decoder_attention,pgen = decoder(decoder_input,decoder_hidden,encoder_outputs,prev_unk_word)\n",
        "      P_over_extended_vocab = torch.exp(decoder_output)*pgen.expand_as(torch.exp(decoder_output))\n",
        "\n",
        "      decoder_attention = decoder_attention.squeeze(0)[0:input_length].unsqueeze(0)\n",
        "      p_duplicate_list = torch.zeros([input_length, P_over_extended_vocab.size(1)], device=device)\n",
        "      p_duplicate_list = p_duplicate_list.tolist()\n",
        "      for (duplicate_word_key,duplicate_word_value) in duplicate_words.items():\n",
        "        p_duplicate_list[duplicate_word_key][duplicate_word_value] = 1\n",
        "      p_duplicate = torch.tensor(p_duplicate_list, dtype=torch.float, device=device)\n",
        "      p_diag = torch.mm(decoder_attention, p_duplicate)\n",
        "      p_diag = p_diag*(torch.tensor([1], device=device).sub(pgen)).expand_as(p_diag)\n",
        "      p_add_diag = torch.diag(p_diag.squeeze(0),diagonal=0)\n",
        "      P_over_extended_vocab = torch.mm(P_over_extended_vocab,p_add_diag).add(P_over_extended_vocab)\n",
        "\n",
        "      for i in range(input_length):\n",
        "        if not (1 in p_duplicate_list[i]):\n",
        "          P_over_extended_vocab = torch.cat((P_over_extended_vocab[0], torch.mm(decoder_attention.squeeze(0)[i].unsqueeze(0).unsqueeze(0), torch.tensor([1], device=device).sub(pgen).unsqueeze(0)).squeeze(0)),0).unsqueeze(0)\n",
        "\n",
        "      try:\n",
        "        loss += -torch.log(P_over_extended_vocab[0][ reverse_extended_vocab[ ind2Word_dec_big[ target_tensor[decoder_index].item() ] ] ] + 1e-12)\n",
        "        loss.backward(retain_graph=True)\n",
        "      except KeyError:\n",
        "        loss += torch.tensor(0,dtype=torch.float,device=device)\n",
        "      decoder_input = target_tensor[decoder_index]\n",
        "  else:\n",
        "\n",
        "    for decoder_index in range(output_length):\n",
        "      decoder_output,decoder_hidden,decoder_attention,pgen = decoder(decoder_input,decoder_hidden,encoder_outputs,prev_unk_word) \n",
        "      P_over_extended_vocab = torch.exp(decoder_output)*pgen.expand_as(torch.exp(decoder_output))\n",
        "\n",
        "      decoder_attention = decoder_attention.squeeze(0)[0:input_length].unsqueeze(0)\n",
        "      p_duplicate_list = torch.zeros([input_length, P_over_extended_vocab.size(1)], device=device)\n",
        "      p_duplicate_list = p_duplicate_list.tolist()\n",
        "      for (duplicate_word_key,duplicate_word_value) in duplicate_words.items():\n",
        "        p_duplicate_list[duplicate_word_key][duplicate_word_value] = 1\n",
        "      p_duplicate = torch.tensor(p_duplicate_list, dtype=torch.float, device=device)\n",
        "      p_diag = torch.mm(decoder_attention, p_duplicate)\n",
        "      p_diag = p_diag*(torch.tensor([1], device=device).sub(pgen)).expand_as(p_diag)\n",
        "      p_add_diag = torch.diag(p_diag.squeeze(0),diagonal=0)\n",
        "      P_over_extended_vocab = torch.mm(P_over_extended_vocab,p_add_diag).add(P_over_extended_vocab)\n",
        "\n",
        "      for i in range(input_length):\n",
        "        if not (1 in p_duplicate_list[i]):\n",
        "          P_over_extended_vocab = torch.cat((P_over_extended_vocab[0], torch.mm(decoder_attention.squeeze(0)[i].unsqueeze(0).unsqueeze(0), torch.tensor([1], device=device).sub(pgen).unsqueeze(0)).squeeze(0)),0).unsqueeze(0)\n",
        "\n",
        "      try:\n",
        "        loss += -torch.log(P_over_extended_vocab[0][ reverse_extended_vocab[ ind2Word_dec_big[ target_tensor[decoder_index].item() ] ] ] + 1e-12)\n",
        "        loss.backward(retain_graph=True)\n",
        "      except KeyError:\n",
        "        loss += torch.tensor(0,dtype=torch.float,device=device)\n",
        "      idx = torch.topk(P_over_extended_vocab, k=1, dim=1)[1]\n",
        "      if idx.item() < len(word2Index_dec.keys()):   \n",
        "        decoder_input = torch.tensor([idx.item()],dtype=torch.long,device=device)\n",
        "      elif idx.item() >= len(word2Index_dec.keys()):\n",
        "        prev_unk_word = extended_vocab[idx.item()]\n",
        "        decoder_input = torch.tensor([0],dtype=torch.long,device=device)\n",
        "      elif (decoder_input.item() == word2Index_dec['<END>']):\n",
        "        break\n",
        "\n",
        "  if iters > 20000:\n",
        "    torch.nn.utils.clip_grad_norm_(rnn_encoder.parameters(),0.4)\n",
        "    torch.nn.utils.clip_grad_norm_(rnn_decoder.parameters(),0.4)\n",
        "\n",
        "  encoder_optimizer.step()\n",
        "  decoder_optimizer.step()\n",
        "\n",
        "  return loss.item()/output_length"
      ],
      "execution_count": 20,
      "outputs": []
    },
    {
      "cell_type": "code",
      "metadata": {
        "id": "mye_kgb6AX-u"
      },
      "source": [
        "import time\n",
        "import math\n",
        "\n",
        "\n",
        "def asMinutes(s):\n",
        "    m = math.floor(s / 60)\n",
        "    s -= m * 60\n",
        "    return '%dm %ds' % (m, s)\n",
        "\n",
        "\n",
        "def timeSince(since, percent):\n",
        "    now = time.time()\n",
        "    s = now - since\n",
        "    if percent != 0:\n",
        "      es = s / (percent)\n",
        "      rs = es - s\n",
        "      return '%s (- %s)' % (asMinutes(s), asMinutes(rs))\n",
        "    else:\n",
        "      return 0"
      ],
      "execution_count": 21,
      "outputs": []
    },
    {
      "cell_type": "code",
      "metadata": {
        "colab": {
          "base_uri": "https://localhost:8080/"
        },
        "id": "Wd4mI-JWAbwQ",
        "outputId": "c07b0c32-1b5d-49b7-d151-d47c461bba1c"
      },
      "source": [
        "arr = np.arange(len(encoder_tensor))\n",
        "np.random.shuffle(arr)\n",
        "len(arr)"
      ],
      "execution_count": 22,
      "outputs": [
        {
          "output_type": "execute_result",
          "data": {
            "text/plain": [
              "30000"
            ]
          },
          "metadata": {
            "tags": []
          },
          "execution_count": 22
        }
      ]
    },
    {
      "cell_type": "code",
      "metadata": {
        "id": "Q1_CqF8yAeJj"
      },
      "source": [
        "# Dictionary for creating loss graph\n",
        "loss_graph = {}\n",
        "\n",
        "def train_Iters(encoder,decoder,n_iters,print_every=50, plot_every=100,learning_rate = 0.03):\n",
        "  # start = time.time()\n",
        "  plot_losses = []\n",
        "  print_loss_total = 0  # Reset every print_every\n",
        "  plot_loss_total = 0\n",
        "\n",
        "  encoder_optimizer = torch.optim.SGD(encoder.parameters(), lr=learning_rate)\n",
        "  decoder_optimizer = torch.optim.SGD(decoder.parameters(), lr=learning_rate)\n",
        "  training_pairs = [random.choice(pairs) for i in range(n_iters)]\n",
        "  \n",
        "  criterion = nn.NLLLoss()\n",
        "  for iters in range(n_iters):\n",
        "    training_pair = training_pairs[iters - 1]\n",
        "    input_tensor = training_pair[0]\n",
        "    target_tensor = training_pair[1]\n",
        "\n",
        "    input_tensor = torch.tensor(input_tensor, dtype=torch.long, device = device).view(-1, 1)\n",
        "    target_tensor = torch.tensor(target_tensor, dtype=torch.long, device = device).view(-1, 1)\n",
        "\n",
        "    loss = train(encoder,decoder,input_tensor,target_tensor,encoder_optimizer,decoder_optimizer,criterion,max_source_length, iters)\n",
        "    print_loss_total += loss\n",
        "    plot_loss_total += loss\n",
        "\n",
        "    if iters % print_every == 0:\n",
        "        print_loss_avg = print_loss_total / print_every\n",
        "        print_loss_total = 0\n",
        "        print('%s %d%%) %.4f' % (iters, iters / len(arr) * 100, print_loss_avg))\n",
        "\n",
        "        if iters > 0:\n",
        "          loss_graph[iters] = print_loss_avg\n",
        "\n",
        "    if iters % plot_every == 0:\n",
        "        plot_loss_avg = plot_loss_total / plot_every\n",
        "        plot_losses.append(plot_loss_avg)\n",
        "        plot_loss_total = 0\n",
        "\n",
        "        #return loss"
      ],
      "execution_count": 23,
      "outputs": []
    },
    {
      "cell_type": "code",
      "metadata": {
        "id": "IBFDC6uaAh_t"
      },
      "source": [
        "%matplotlib inline \n",
        "\n",
        "from matplotlib import pyplot\n",
        "pyplot.switch_backend('agg')\n",
        "import matplotlib.ticker as ticker\n",
        "import numpy as np\n",
        "\n",
        "\n",
        "def showPlot(points):\n",
        "    pyplot.figure()\n",
        "    fig, ax = pyplot.subplots()\n",
        "    # this locator puts ticks at regular intervals\n",
        "    loc = ticker.MultipleLocator(base=0.2)\n",
        "    ax.yaxis.set_major_locator(loc)\n",
        "    pyplot.plot(points)"
      ],
      "execution_count": 24,
      "outputs": []
    },
    {
      "cell_type": "code",
      "metadata": {
        "id": "tTnQsMx8AlFY"
      },
      "source": [
        "pairs = []\n",
        "for enc,dec in zip(encoder_input,decoder_input):\n",
        "    pairs.append([enc,dec])"
      ],
      "execution_count": 25,
      "outputs": []
    },
    {
      "cell_type": "code",
      "metadata": {
        "colab": {
          "base_uri": "https://localhost:8080/"
        },
        "id": "VyCo8D-5AnOw",
        "outputId": "4540bb82-b5d7-4d0b-b71e-ea03ed4a00cf"
      },
      "source": [
        "hidden_size = 128\n",
        "rnn_encoder = Encoder(len(word2Index_enc.keys()),hidden_size).to(device=device)\n",
        "rnn_decoder = AttentionDecoder(len(word2Index_dec.keys()),hidden_size,max_source_length,0.2).to(device=device)\n",
        "\n",
        "train_Iters(rnn_encoder,rnn_decoder,5000)\n"
      ],
      "execution_count": 26,
      "outputs": [
        {
          "output_type": "stream",
          "text": [
            "0 0%) 0.1714\n",
            "50 0%) 5.6345\n",
            "100 0%) 5.8225\n",
            "150 0%) 4.8406\n",
            "200 0%) 4.6814\n",
            "250 0%) 4.6415\n",
            "300 1%) 4.4091\n",
            "350 1%) 4.1923\n",
            "400 1%) 4.2697\n",
            "450 1%) 4.0123\n",
            "500 1%) 4.4203\n",
            "550 1%) 4.1832\n",
            "600 2%) 4.1844\n",
            "650 2%) 4.0388\n",
            "700 2%) 3.8069\n",
            "750 2%) 4.5407\n",
            "800 2%) 4.2120\n",
            "850 2%) 4.2045\n",
            "900 3%) 4.3148\n",
            "950 3%) 4.0410\n",
            "1000 3%) 4.1084\n",
            "1050 3%) 4.1745\n",
            "1100 3%) 4.2969\n",
            "1150 3%) 4.1750\n",
            "1200 4%) 4.1161\n",
            "1250 4%) 4.0516\n",
            "1300 4%) 3.6885\n",
            "1350 4%) 3.8702\n",
            "1400 4%) 3.9003\n",
            "1450 4%) 4.0120\n",
            "1500 5%) 3.5711\n",
            "1550 5%) 4.0104\n",
            "1600 5%) 4.0868\n",
            "1650 5%) 4.1342\n",
            "1700 5%) 4.1491\n",
            "1750 5%) 4.1815\n",
            "1800 6%) 4.1689\n",
            "1850 6%) 3.7660\n",
            "1900 6%) 3.8036\n",
            "1950 6%) 4.0518\n",
            "2000 6%) 4.0994\n",
            "2050 6%) 4.1529\n",
            "2100 7%) 3.8653\n",
            "2150 7%) 4.4184\n",
            "2200 7%) 4.0327\n",
            "2250 7%) 3.8252\n",
            "2300 7%) 4.1519\n",
            "2350 7%) 4.1808\n",
            "2400 8%) 3.9145\n",
            "2450 8%) 3.8470\n",
            "2500 8%) 3.9639\n",
            "2550 8%) 3.8149\n",
            "2600 8%) 4.0914\n",
            "2650 8%) 4.0173\n",
            "2700 9%) 4.3018\n",
            "2750 9%) 3.9788\n",
            "2800 9%) 3.8191\n",
            "2850 9%) 4.2253\n",
            "2900 9%) 3.9007\n",
            "2950 9%) 3.9921\n",
            "3000 10%) 3.9084\n",
            "3050 10%) 3.7970\n",
            "3100 10%) 3.8932\n",
            "3150 10%) 4.0615\n",
            "3200 10%) 3.9086\n",
            "3250 10%) 4.1354\n",
            "3300 11%) 3.9208\n",
            "3350 11%) 4.1963\n",
            "3400 11%) 3.7439\n",
            "3450 11%) 3.7914\n",
            "3500 11%) 4.3653\n",
            "3550 11%) 4.2155\n",
            "3600 12%) 3.9416\n",
            "3650 12%) 3.9754\n",
            "3700 12%) 3.8386\n",
            "3750 12%) 3.9299\n",
            "3800 12%) 4.2880\n",
            "3850 12%) 4.0399\n",
            "3900 13%) 4.1122\n",
            "3950 13%) 3.6110\n",
            "4000 13%) 3.5216\n",
            "4050 13%) 3.2095\n",
            "4100 13%) 3.6363\n",
            "4150 13%) 3.8867\n",
            "4200 14%) 3.8032\n",
            "4250 14%) 3.9938\n",
            "4300 14%) 3.9179\n",
            "4350 14%) 4.1293\n",
            "4400 14%) 3.8714\n",
            "4450 14%) 3.8972\n",
            "4500 15%) 4.2052\n",
            "4550 15%) 3.9792\n",
            "4600 15%) 3.8665\n",
            "4650 15%) 3.7027\n",
            "4700 15%) 3.9942\n",
            "4750 15%) 4.0322\n",
            "4800 16%) 3.7289\n",
            "4850 16%) 3.8501\n",
            "4900 16%) 3.5986\n",
            "4950 16%) 3.9257\n"
          ],
          "name": "stdout"
        }
      ]
    },
    {
      "cell_type": "code",
      "metadata": {
        "id": "cFO2SV1cApag",
        "colab": {
          "base_uri": "https://localhost:8080/",
          "height": 283
        },
        "outputId": "020da9eb-62fd-44cb-a2d6-107c4263a956"
      },
      "source": [
        "%matplotlib inline \n",
        "\n",
        "import matplotlib.pyplot as plt\n",
        "\n",
        "iters = list(loss_graph.keys())\n",
        "loss_val = list(loss_graph.values())\n",
        "plt.plot(iters, loss_val)\n",
        "plt.ylim(0,8) \n",
        "plt.xlim(0,5000)\n",
        "plt.xlabel('Iterations') \n",
        "plt.ylabel('Loss')  \n",
        "plt.show()\n",
        "\n"
      ],
      "execution_count": 27,
      "outputs": [
        {
          "output_type": "display_data",
          "data": {
            "image/png": "[encoded data removed]",
            "text/plain": [
              "<Figure size 432x288 with 1 Axes>"
            ]
          },
          "metadata": {
            "tags": [],
            "needs_background": "light"
          }
        }
      ]
    },
    {
      "cell_type": "code",
      "metadata": {
        "id": "s9BHiSBFArlw"
      },
      "source": [
        "from nltk.translate.bleu_score import sentence_bleu\n",
        "from rouge import Rouge \n",
        "def evaluateRandomly(encoder, decoder, n=10):\n",
        "    for i in range(n):\n",
        "        pair = random.choice(pairs)\n",
        "        pair1 = torch.tensor(pair[0],dtype=torch.long,device=device)\n",
        "        pair2 = pair[1]\n",
        "        output_words, attentions = evaluate(encoder, decoder, pair1)\n",
        "        output_sentence = ' '.join(output_words)\n",
        "        output_list = [ind2Word_dec_big[word] for word in pair2]\n",
        "        output_list = ' '.join(output_list)\n",
        "        input_sentence = [ind2Word_enc[element.item()] for element in pair1.flatten()]\n",
        "        input_sentence = ' '.join(input_sentence)\n",
        "        #print(\"Sentence is  \",input_sentence)\n",
        "        #print('<',output_sentence)\n",
        "        #print('=',output_list)\n",
        "        print(\"Review:\",input_sentence)\n",
        "        #print(\"Original summary:\",output_sentence)\n",
        "        print(\"Predicted summary:\",output_list)\n",
        "        scoreB = sentence_bleu(output_sentence, output_list)\n",
        "        rouge = Rouge()\n",
        "        scoreR = rouge.get_scores(output_sentence, output_list)\n",
        "        print(scoreB)\n",
        "        print(scoreR)\n",
        "        print(\"\\n\")"
      ],
      "execution_count": 28,
      "outputs": []
    },
    {
      "cell_type": "code",
      "metadata": {
        "id": "ATUPvCUtAu0u"
      },
      "source": [
        "def evaluate(encoder, decoder, encoder_tensor, max_length=max_source_length):\n",
        "    with torch.no_grad():\n",
        "        input_tensor = encoder_tensor\n",
        "        input_length = input_tensor.size(0)\n",
        "        encoder_hidden = encoder.init_hidden()\n",
        "\n",
        "        prev_unk_word = ''\n",
        "\n",
        "        encoder_outputs = torch.zeros(max_length, encoder.hidden_size, device=device)\n",
        "\n",
        "        for ei in range(input_length):\n",
        "            encoder_output, encoder_hidden = encoder(input_tensor[ei].unsqueeze(0),\n",
        "                                                     encoder_hidden)\n",
        "            encoder_outputs[ei] += encoder_output[0, 0]\n",
        "\n",
        "        extended_vocab = psuInd2Word_dec.copy()\n",
        "        duplicate_words = {}\n",
        "        extend_key = len(word2Index_dec.keys())\n",
        "        input_list = input_tensor.tolist()\n",
        "        i =0\n",
        "        for input_word in input_list:\n",
        "          if ind2Word_enc[input_word] in word2Index_dec.keys():\n",
        "            duplicate_words[i] = word2PsuInd_dec[ind2Word_enc[input_word]]\n",
        "          else:\n",
        "            extended_vocab[extend_key] = ind2Word_enc[input_word]\n",
        "            extend_key += 1\n",
        "          i = i+1\n",
        "\n",
        "        decoder_input = torch.tensor([word2Index_dec['<START>']], device=device)  # SOS\n",
        "\n",
        "        decoder_hidden = encoder_hidden\n",
        "\n",
        "        decoded_words = []\n",
        "        decoder_attentions = torch.zeros(max_length, max_length)\n",
        "\n",
        "        for di in range(max_length):\n",
        "            decoder_output, decoder_hidden, decoder_attention,pgen = decoder(\n",
        "                decoder_input, decoder_hidden, encoder_outputs, prev_unk_word)\n",
        "            decoder_attentions[di] = decoder_attention.data\n",
        "\n",
        "            P_over_extended_vocab = torch.exp(decoder_output)*pgen.expand_as(torch.exp(decoder_output))\n",
        "\n",
        "            decoder_attention = decoder_attention.squeeze(0)[0:input_length].unsqueeze(0)\n",
        "            p_duplicate_list = torch.zeros([input_length, P_over_extended_vocab.size(1)], device=device)\n",
        "            p_duplicate_list = p_duplicate_list.tolist()\n",
        "            for (duplicate_word_key,duplicate_word_value) in duplicate_words.items():\n",
        "              p_duplicate_list[duplicate_word_key][duplicate_word_value] = 1\n",
        "            p_duplicate = torch.tensor(p_duplicate_list, dtype=torch.float, device=device)\n",
        "            p_diag = torch.mm(decoder_attention, p_duplicate)\n",
        "            p_diag = p_diag*(torch.tensor([1], device=device).sub(pgen)).expand_as(p_diag)\n",
        "            p_add_diag = torch.diag(p_diag.squeeze(0),diagonal=0)\n",
        "            P_over_extended_vocab = torch.mm(P_over_extended_vocab,p_add_diag).add(P_over_extended_vocab)\n",
        "\n",
        "            for i in range(input_length):\n",
        "              if not (1 in p_duplicate_list[i]):\n",
        "                P_over_extended_vocab = torch.cat((P_over_extended_vocab[0], torch.mm(decoder_attention.squeeze(0)[i].unsqueeze(0).unsqueeze(0), torch.tensor([1], device=device).sub(pgen).unsqueeze(0)).squeeze(0)),0).unsqueeze(0)\n",
        "\n",
        "            idx = torch.topk(P_over_extended_vocab, k=1, dim=1)[1]\n",
        "            if idx.item() < len(word2Index_dec.keys()):   \n",
        "              decoder_input = torch.tensor([idx.item()],dtype=torch.long,device=device)\n",
        "              decoded_words.append(extended_vocab[idx.item()])\n",
        "            elif idx.item() >= len(word2Index_dec.keys()):\n",
        "              decoder_input = torch.tensor([0],dtype=torch.long,device=device)\n",
        "              prev_unk_word = extended_vocab[idx.item()]\n",
        "              decoded_words.append(extended_vocab[idx.item()])\n",
        "            if idx.item() == word2Index_dec['<END>']:\n",
        "              decoded_words.append('<END>')\n",
        "              break\n",
        "\n",
        "        return decoded_words, decoder_attentions[:di + 1]"
      ],
      "execution_count": 29,
      "outputs": []
    },
    {
      "cell_type": "code",
      "metadata": {
        "id": "yZF518BRAz9t",
        "colab": {
          "base_uri": "https://localhost:8080/"
        },
        "outputId": "1f668b8f-fe7b-4b98-a04d-2b8a40e4e3be"
      },
      "source": [
        "evaluateRandomly(rnn_encoder, rnn_decoder)"
      ],
      "execution_count": 30,
      "outputs": [
        {
          "output_type": "stream",
          "text": [
            "Review: my daughter loved this cotton candy it was hard to find in the stores but am glad we found it online\n",
            "Predicted summary: <START> my daughter loved this <END>\n",
            "0.8034284189446518\n",
            "[{'rouge-1': {'f': 0.39999999520000007, 'p': 0.5, 'r': 0.3333333333333333}, 'rouge-2': {'f': 0.0, 'p': 0.0, 'r': 0.0}, 'rouge-l': {'f': 0.44444444000000005, 'p': 0.6666666666666666, 'r': 0.3333333333333333}}]\n",
            "\n",
            "\n",
            "Review: deliciously sweet and chocolate y while having essentially the same nutritional bang for your caloric buck as plain almonds a great product\n",
            "Predicted summary: <START> delicious <END>\n",
            "0.8316033157750904\n",
            "[{'rouge-1': {'f': 0.5714285665306124, 'p': 0.5, 'r': 0.6666666666666666}, 'rouge-2': {'f': 0.0, 'p': 0.0, 'r': 0.0}, 'rouge-l': {'f': 0.6666666616666668, 'p': 0.6666666666666666, 'r': 0.6666666666666666}}]\n",
            "\n",
            "\n",
            "Review: my children love the taste better than milk from grocery store and it is good for us to travel out of the country\n",
            "Predicted summary: <START> good product <END>\n",
            "0.8408964152537145\n",
            "[{'rouge-1': {'f': 0.4999999950000001, 'p': 0.5, 'r': 0.5}, 'rouge-2': {'f': 0.0, 'p': 0.0, 'r': 0.0}, 'rouge-l': {'f': 0.5714285665306124, 'p': 0.6666666666666666, 'r': 0.5}}]\n",
            "\n",
            "\n",
            "Review: my dogs love it even the little princess terrier i ve tried many other brands and they enjoy this one the most as so far\n",
            "Predicted summary: <START> dogs scarf it down <END>\n",
            "0.8132882808488929\n",
            "[{'rouge-1': {'f': 0.39999999520000007, 'p': 0.5, 'r': 0.3333333333333333}, 'rouge-2': {'f': 0.0, 'p': 0.0, 'r': 0.0}, 'rouge-l': {'f': 0.44444444000000005, 'p': 0.6666666666666666, 'r': 0.3333333333333333}}]\n",
            "\n",
            "\n",
            "Review: great price and delivered on time not beluga but i cannot afford that so this is a tasty alternative at a fraction of the cost\n",
            "Predicted summary: <START> good deal <END>\n",
            "0.8670694387164803\n",
            "[{'rouge-1': {'f': 0.4999999950000001, 'p': 0.5, 'r': 0.5}, 'rouge-2': {'f': 0.0, 'p': 0.0, 'r': 0.0}, 'rouge-l': {'f': 0.5714285665306124, 'p': 0.6666666666666666, 'r': 0.5}}]\n",
            "\n",
            "\n",
            "Review: very strong excellent taste if you want a coffee that is full of flavor even on the largest cup size this is the one to buy\n",
            "Predicted summary: <START> bold <END>\n",
            "0.8633400213704505\n",
            "[{'rouge-1': {'f': 0.5714285665306124, 'p': 0.5, 'r': 0.6666666666666666}, 'rouge-2': {'f': 0.0, 'p': 0.0, 'r': 0.0}, 'rouge-l': {'f': 0.6666666616666668, 'p': 0.6666666666666666, 'r': 0.6666666666666666}}]\n",
            "\n",
            "\n",
            "Review: this tastes nothing like pumpkin let alone pumpkin pie it just tastes like spicy cleaning solution to me some may be a fan but i am certainly not\n",
            "Predicted summary: <START> yuck <END>\n",
            "0.8633400213704505\n",
            "[{'rouge-1': {'f': 0.5714285665306124, 'p': 0.5, 'r': 0.6666666666666666}, 'rouge-2': {'f': 0.0, 'p': 0.0, 'r': 0.0}, 'rouge-l': {'f': 0.6666666616666668, 'p': 0.6666666666666666, 'r': 0.6666666666666666}}]\n",
            "\n",
            "\n",
            "Review: when you are in the mood for something savory these really fit the bill you get the richness of cashews contrasted with the bite of black pepper it is a unique combination and i give them five stars\n",
            "Predicted summary: <START> rich and bold <END>\n",
            "0.816496580927726\n",
            "[{'rouge-1': {'f': 0.4444444395061729, 'p': 0.5, 'r': 0.4}, 'rouge-2': {'f': 0.0, 'p': 0.0, 'r': 0.0}, 'rouge-l': {'f': 0.49999999531250006, 'p': 0.6666666666666666, 'r': 0.4}}]\n",
            "\n",
            "\n"
          ],
          "name": "stdout"
        },
        {
          "output_type": "stream",
          "text": [
            "/usr/local/lib/python3.7/dist-packages/nltk/translate/bleu_score.py:490: UserWarning: \n",
            "Corpus/Sentence contains 0 counts of 2-gram overlaps.\n",
            "BLEU scores might be undesirable; use SmoothingFunction().\n",
            "  warnings.warn(_msg)\n"
          ],
          "name": "stderr"
        },
        {
          "output_type": "stream",
          "text": [
            "Review: wolfgang puck is hawaiian hazelnut is the best k cup hazelnut and i have tried them all we ordered this large pack because we sadly found out that wolfgang puck is discontinuing many not all of their k cups including this flavor buy this while you can\n",
            "Predicted summary: <START> the best hazelnut k cup <END>\n",
            "0.7699019277569183\n",
            "[{'rouge-1': {'f': 0.36363635900826446, 'p': 0.5, 'r': 0.2857142857142857}, 'rouge-2': {'f': 0.0, 'p': 0.0, 'r': 0.0}, 'rouge-l': {'f': 0.3999999958, 'p': 0.6666666666666666, 'r': 0.2857142857142857}}]\n",
            "\n",
            "\n",
            "Review: i thought it was great if your want hot this is just for you just one word for this item great\n",
            "Predicted summary: <START> bhut jolokia powder <END>\n",
            "0.8070557274927981\n",
            "[{'rouge-1': {'f': 0.4444444395061729, 'p': 0.5, 'r': 0.4}, 'rouge-2': {'f': 0.0, 'p': 0.0, 'r': 0.0}, 'rouge-l': {'f': 0.49999999531250006, 'p': 0.6666666666666666, 'r': 0.4}}]\n",
            "\n",
            "\n"
          ],
          "name": "stdout"
        }
      ]
    }
  ]
}