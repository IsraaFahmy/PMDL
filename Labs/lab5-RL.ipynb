{
  "nbformat": 4,
  "nbformat_minor": 0,
  "metadata": {
    "colab": {
      "name": "Copy of RL.ipynb",
      "provenance": [],
      "collapsed_sections": [],
      "toc_visible": true
    },
    "kernelspec": {
      "name": "python3",
      "display_name": "Python 3"
    },
    "accelerator": "GPU"
  },
  "cells": [
    {
      "cell_type": "markdown",
      "metadata": {
        "id": "jrI6q7RmWQam"
      },
      "source": [
        "<table align=\"center\">\n",
        "  <td align=\"center\"><a target=\"_blank\" href=\"https://colab.research.google.com/github/KhaledElTahan/DeepLearning/blob/master/Labs/lab6/lab6.ipynb\">\n",
        "        <img src=\"http://introtodeeplearning.com/images/colab/colab.png?v2.0\"  style=\"padding-bottom:5px;\" />Run in Google Colab</a></td>\n",
        "</table>"
      ]
    },
    {
      "cell_type": "markdown",
      "metadata": {
        "id": "iHvW3OJaV41o"
      },
      "source": [
        "# Copyright Information\n",
        "**This lab is based on MIT Deep Learning Lab.**"
      ]
    },
    {
      "cell_type": "markdown",
      "metadata": {
        "id": "WoXYKhfZMHiw"
      },
      "source": [
        "# Lab 6: Cartpole - Reinforcement Learning\n",
        "\n",
        "Reinforcement learning (RL) is a subset of machine learning which poses learning problems as interactions between agents and environments. It often assumes agents have no prior knowledge of a world, so they must learn to navigate environments by optimizing a reward function. Within an environment, an agent can take certain actions and receive feedback, in the form of positive or negative rewards, with respect to their decision. As such, an agent's feedback loop is somewhat akin to the idea of \"trial and error\", or the manner in which a child might learn to distinguish between \"good\" and \"bad\" actions.\n",
        "\n",
        "In practical terms, our RL agent will interact with the environment by taking an action at each timestep, receiving a corresponding reward, and updating its state according to what it has \"learned\".  \n",
        "\n",
        "![alt text](https://www.kdnuggets.com/images/reinforcement-learning-fig1-700.jpg)\n",
        "\n",
        "While the ultimate goal of reinforcement learning is to teach agents to act in the real, physical world, games provide a convenient proving ground for developing RL algorithms and agents. Games have some properties that make them particularly well suited for RL: \n",
        "\n",
        "1.   In many cases, games have perfectly describable environments. For example, all rules of chess can be formally written and programmed into a chess game simulator;\n",
        "2.   Games are massively parallelizable. Since they do not require running in the real world, simultaneous environments can be run on large data clusters; \n",
        "3.   Simpler scenarios in games enable fast prototyping. This speeds up the development of algorithms that could eventually run in the real-world; and\n",
        "4.   ... Games are fun! \n",
        "\n",
        "In previous labs, we have explored supervised learning (with RNNs, CNNs). Reinforcement learning is fundamentally different, in that we are training a deep learning algorithm to govern the actions of our RL agent, that is trying, within its environment, to find the optimal way to achieve a goal. The goal of training an RL agent is to determine the best next step to take to earn the greatest final payoff or return. In this lab, we focus on building a reinforcement learning algorithm to master a cartpole environments in which Balance a pole, protruding from a cart, in an upright position by only moving the base left or right. Environment with a low-dimensional observation space.\n",
        "\n",
        "\n",
        "Let's get started! First we'll import TensorFlow, the course package, and some dependencies.\n"
      ]
    },
    {
      "cell_type": "code",
      "metadata": {
        "id": "EvdePP-VyVWp",
        "colab": {
          "base_uri": "https://localhost:8080/"
        },
        "outputId": "0c0250c4-da4f-4fe2-9a41-cd1b0f60c23c"
      },
      "source": [
        "#Install some dependencies for visualizing the agents\n",
        "!apt-get install -y xvfb python-opengl x11-utils > /dev/null 2>&1\n",
        "!pip install gym pyvirtualdisplay scikit-video > /dev/null 2>&1\n",
        "\n",
        "# Import Tensorflow 2.0\n",
        "%tensorflow_version 2.x\n",
        "import tensorflow as tf\n",
        "\n",
        "import numpy as np\n",
        "import base64, io, time, gym\n",
        "import IPython, functools\n",
        "import matplotlib.pyplot as plt\n",
        "import time\n",
        "from tqdm import tqdm\n",
        "\n",
        "# Download and import the MIT 6.S191 package\n",
        "!pip install mitdeeplearning\n",
        "import mitdeeplearning as mdl"
      ],
      "execution_count": 1,
      "outputs": [
        {
          "output_type": "stream",
          "text": [
            "Collecting mitdeeplearning\n",
            "\u001b[?25l  Downloading https://files.pythonhosted.org/packages/9d/ad/650eb53c0d9d1213536fe94bc150f89b564ff5ee784bd662272584bb091b/mitdeeplearning-0.2.0.tar.gz (2.1MB)\n",
            "\u001b[K     |████████████████████████████████| 2.1MB 20.0MB/s \n",
            "\u001b[?25hRequirement already satisfied: numpy in /usr/local/lib/python3.7/dist-packages (from mitdeeplearning) (1.19.5)\n",
            "Requirement already satisfied: regex in /usr/local/lib/python3.7/dist-packages (from mitdeeplearning) (2019.12.20)\n",
            "Requirement already satisfied: tqdm in /usr/local/lib/python3.7/dist-packages (from mitdeeplearning) (4.41.1)\n",
            "Requirement already satisfied: gym in /usr/local/lib/python3.7/dist-packages (from mitdeeplearning) (0.17.3)\n",
            "Requirement already satisfied: pyglet<=1.5.0,>=1.4.0 in /usr/local/lib/python3.7/dist-packages (from gym->mitdeeplearning) (1.5.0)\n",
            "Requirement already satisfied: scipy in /usr/local/lib/python3.7/dist-packages (from gym->mitdeeplearning) (1.4.1)\n",
            "Requirement already satisfied: cloudpickle<1.7.0,>=1.2.0 in /usr/local/lib/python3.7/dist-packages (from gym->mitdeeplearning) (1.3.0)\n",
            "Requirement already satisfied: future in /usr/local/lib/python3.7/dist-packages (from pyglet<=1.5.0,>=1.4.0->gym->mitdeeplearning) (0.16.0)\n",
            "Building wheels for collected packages: mitdeeplearning\n",
            "  Building wheel for mitdeeplearning (setup.py) ... \u001b[?25l\u001b[?25hdone\n",
            "  Created wheel for mitdeeplearning: filename=mitdeeplearning-0.2.0-cp37-none-any.whl size=2115442 sha256=839879711ccbde13fb9942a2e64ba9fe8156554af31ccc1762304a88e9ac2c57\n",
            "  Stored in directory: /root/.cache/pip/wheels/af/dc/2a/5c3633135e7e4ef4fd31463cfa1942cb1bae7486ab94e7a2ad\n",
            "Successfully built mitdeeplearning\n",
            "Installing collected packages: mitdeeplearning\n",
            "Successfully installed mitdeeplearning-0.2.0\n"
          ],
          "name": "stdout"
        }
      ]
    },
    {
      "cell_type": "markdown",
      "metadata": {
        "id": "zmrHSiXKTXTY"
      },
      "source": [
        "Before we dive in, let's take a step back and outline our approach, which is generally applicable to reinforcement learning problems in general:\n",
        "\n",
        "1. **Initialize our environment and our agent**: here we will describe the different observations and actions the agent can make in the environemnt.\n",
        "2. **Define our agent's memory**: this will enable the agent to remember its past actions, observations, and rewards.\n",
        "3. **Define a reward function**: describes the reward associated with an action or sequence of actions.\n",
        "4. **Define the learning algorithm**: this will be used to reinforce the agent's good behaviors and discourage bad behaviors.\n"
      ]
    },
    {
      "cell_type": "markdown",
      "metadata": {
        "id": "UT7YL8KBJIIc"
      },
      "source": [
        "## 6.1 Define the Cartpole environment and agent\n",
        "\n",
        "### Environment \n",
        "\n",
        "In order to model the environment for both the Cartpole and Pong tasks, we'll be using a toolkit developed by OpenAI called [OpenAI Gym](https://gym.openai.com/). It provides several pre-defined environments for training and testing reinforcement learning agents, including those for classic physics control tasks, Atari video games, and robotic simulations. To access the Cartpole environment, we can use `env = gym.make(\"CartPole-v0\")`, which we gained access to when we imported the `gym` package. We can instantiate different [environments](https://gym.openai.com/envs/#classic_control) by passing the enivronment name to the `make` function.\n",
        "\n",
        "One issue we might experience when developing RL algorithms is that many aspects of the learning process are inherently random: initializing game states, changes in the environment, and the agent's actions. As such, it can be helpful to set a initial \"seed\" for the environment to ensure some level of reproducibility. Much like you might use `numpy.random.seed`, we can call the comparable function in gym, `seed`, with our defined environment to ensure the environment's random variables are initialized the same each time."
      ]
    },
    {
      "cell_type": "code",
      "metadata": {
        "id": "quv9SC0iIYFm",
        "colab": {
          "base_uri": "https://localhost:8080/"
        },
        "outputId": "99881455-593a-4ba5-df7e-e5a0e2c61fe0"
      },
      "source": [
        "### Instantiate the Cartpole environment ###\n",
        "\n",
        "env = gym.make(\"CartPole-v0\")\n",
        "env.seed(1)"
      ],
      "execution_count": 3,
      "outputs": [
        {
          "output_type": "execute_result",
          "data": {
            "text/plain": [
              "[1]"
            ]
          },
          "metadata": {
            "tags": []
          },
          "execution_count": 3
        }
      ]
    },
    {
      "cell_type": "markdown",
      "metadata": {
        "id": "mhEITUcKK455"
      },
      "source": [
        "In Cartpole, a pole is attached by an un-actuated joint to a cart, which moves along a frictionless track. The pole starts upright, and the goal is to prevent it from falling over. The system is controlled by applying a force of +1 or -1 to the cart. A reward of +1 is provided for every timestep that the pole remains upright. The episode ends when the pole is more than 15 degrees from vertical, or the cart moves more than 2.4 units from the center of the track. A visual summary of the cartpole environment is depicted below:\n",
        "\n",
        "<img width=\"400px\" src=\"https://danielpiedrahita.files.wordpress.com/2017/02/cart-pole.png\"></img>\n",
        "\n",
        "Given this setup for the environment and the objective of the game, we can think about: 1) what observations help define the environment's state; 2) what actions the agent can take. \n",
        "\n",
        "First, let's consider the observation space. In this Cartpole environment our observations are:\n",
        "\n",
        "1. Cart position\n",
        "2. Cart velocity\n",
        "3. Pole angle\n",
        "4. Pole rotation rate\n",
        "\n",
        "We can confirm the size of the space by querying the environment's observation space:\n"
      ]
    },
    {
      "cell_type": "code",
      "metadata": {
        "id": "UVJaEcbdIX82",
        "colab": {
          "base_uri": "https://localhost:8080/"
        },
        "outputId": "8756582a-6936-47ed-b45d-7a1c110524d0"
      },
      "source": [
        "n_observations = env.observation_space\n",
        "print(\"Environment has observation space =\", n_observations)"
      ],
      "execution_count": 4,
      "outputs": [
        {
          "output_type": "stream",
          "text": [
            "Environment has observation space = Box(-3.4028234663852886e+38, 3.4028234663852886e+38, (4,), float32)\n"
          ],
          "name": "stdout"
        }
      ]
    },
    {
      "cell_type": "markdown",
      "metadata": {
        "id": "ZibGgjrALgPM"
      },
      "source": [
        "Second, we consider the action space. At every time step, the agent can move either right or left. Again we can confirm the size of the action space by querying the environment:"
      ]
    },
    {
      "cell_type": "code",
      "metadata": {
        "id": "qc9SIPxBIXrm",
        "colab": {
          "base_uri": "https://localhost:8080/"
        },
        "outputId": "1e83ab7a-2f55-40c6-ed9f-77082af863e3"
      },
      "source": [
        "n_actions = env.action_space.n\n",
        "print(\"Number of possible actions that the agent can choose from =\", n_actions)"
      ],
      "execution_count": 5,
      "outputs": [
        {
          "output_type": "stream",
          "text": [
            "Number of possible actions that the agent can choose from = 2\n"
          ],
          "name": "stdout"
        }
      ]
    },
    {
      "cell_type": "markdown",
      "metadata": {
        "id": "pPfHME8aRKkb"
      },
      "source": [
        "### Cartpole agent\n",
        "\n",
        "Now that we have instantiated the environment and understood the dimensionality of the observation and action spaces, we are ready to define our agent. In deep reinforcement learning, a deep neural network defines the agent. This network will take as input an observation of the environment and output the probability of taking each of the possible actions. Since Cartpole is defined by a low-dimensional observation space, a simple feed-forward neural network should work well for our agent. We will define this using the `Sequential` API.\n",
        "\n",
        "**Important Note**: You need to remove the TODO comment from the model definition to avoid the syntax error.\n"
      ]
    },
    {
      "cell_type": "code",
      "metadata": {
        "id": "W-o_XK4oQ4eu"
      },
      "source": [
        "### Define the Cartpole agent ###\n",
        "\n",
        "# Defines a feed-forward neural network\n",
        "def create_cartpole_model():\n",
        "  model = tf.keras.models.Sequential([\n",
        "      # First Dense layer\n",
        "      tf.keras.layers.Dense(units=32, activation='relu'),\n",
        "\n",
        "      #ODO: Define the last Dense layer, which will provide the network's output.\n",
        "      #Think about the space the agent needs to act in!'''\n",
        "      tf.keras.layers.Dense(units=n_actions, activation=None) \n",
        "  ])\n",
        "  return model\n",
        "\n",
        "cartpole_model = create_cartpole_model()"
      ],
      "execution_count": 8,
      "outputs": []
    },
    {
      "cell_type": "markdown",
      "metadata": {
        "id": "d5D5NSIYS2IW"
      },
      "source": [
        "Now that we have defined the core network architecture, we will define an *action function* that executes a forward pass through the network, given a set of observations, and samples from the output. This sampling from the output probabilities will be used to select the next action for the agent. We will also add support so that the `choose_action` function can handle either a single observation or a batch of observations.\n",
        "\n",
        "**Critically, this action function is totally general and is applicable to other RL tasks, as well!**"
      ]
    },
    {
      "cell_type": "code",
      "metadata": {
        "id": "E_vVZRr8Q4R_"
      },
      "source": [
        "### Define the agent's action function ###\n",
        "\n",
        "# Function that takes observations as input, executes a forward pass through model, \n",
        "#   and outputs a sampled action.\n",
        "# Arguments:\n",
        "#   model: the network that defines our agent\n",
        "#   observation: observation(s) which is/are fed as input to the model\n",
        "#   single: flag as to whether we are handling a single observation or batch of\n",
        "#     observations, provided as an np.array\n",
        "# Returns:\n",
        "#   action: choice of agent action\n",
        "def choose_action(model, observation, single=True):\n",
        "  # add batch dimension to the observation if only a single example was provided\n",
        "  observation = np.expand_dims(observation, axis=0) if single else observation\n",
        "\n",
        "  #'''TODO: feed the observations through the model to predict the log \n",
        "  #probabilities of each possible action.'''\n",
        "  logits = model.predict(observation)\n",
        "  \n",
        "  # Choose an action from the categorical distribution defined by the log \n",
        "  #     probabilities of each possible action.\n",
        "  action = tf.random.categorical(logits, num_samples=1)\n",
        "\n",
        "  action = action.numpy().flatten()\n",
        "\n",
        "  return action[0] if single else action"
      ],
      "execution_count": 9,
      "outputs": []
    },
    {
      "cell_type": "markdown",
      "metadata": {
        "id": "_tR9uAWcTnkr"
      },
      "source": [
        "## 6.2 Define the agent's memory\n",
        "\n",
        "Now that we have instantiated the environment and defined the agent network architecture and action function, we are ready to move on to the next step in our RL workflow:\n",
        "1. **Initialize our environment and our agent**: here we will describe the different observations and actions the agent can make in the environemnt.\n",
        "2. **Define our agent's memory**: this will enable the agent to remember its past actions, observations, and rewards.\n",
        "3. **Define the learning algorithm**: this will be used to reinforce the agent's good behaviors and discourage bad behaviors.\n",
        "\n",
        "In reinforcement learning, training occurs alongside the agent's acting in the environment; an *episode* refers to a sequence of actions that ends in some terminal state, such as the pole falling down or the cart crashing. The agent will need to remember all of its observations and actions, such that once an episode ends, it can learn to \"reinforce\" the good actions and punish the undesirable actions via training. Our first step is to define a simple `Memory` buffer that contains the agent's observations, actions, and received rewards from a given episode. We will also add support to combine a list of `Memory` objects into a single `Memory`. This will be very useful for batching, which will help you accelerate training later on in the lab.\n",
        "\n",
        "**Once again, note the modularity of this memory buffer -- it can and will be applied to other RL tasks as well!**"
      ]
    },
    {
      "cell_type": "code",
      "metadata": {
        "id": "8MM6JwXVQ4JG"
      },
      "source": [
        "### Agent Memory ###\n",
        "\n",
        "class Memory:\n",
        "  def __init__(self): \n",
        "      self.clear()\n",
        "\n",
        "  # Resets/restarts the memory buffer\n",
        "  def clear(self): \n",
        "      self.observations = []\n",
        "      self.actions = []\n",
        "      self.rewards = []\n",
        "\n",
        "  # Add observations, actions, rewards to memory\n",
        "  def add_to_memory(self, new_observation, new_action, new_reward): \n",
        "      self.observations.append(new_observation)\n",
        "\n",
        "      #'''TODO: update the list of actions with new action'''\n",
        "      self.actions.append(new_action)\n",
        "      # TODO: your update code here\n",
        "\n",
        "      #'''TODO: update the list of rewards with new reward'''\n",
        "      self.rewards.append(new_reward)\n",
        "\n",
        "      # TODO: your update code here\n",
        "\n",
        "# Helper function to combine a list of Memory objects into a single Memory.\n",
        "#     This will be very useful for batching.\n",
        "def aggregate_memories(memories):\n",
        "  batch_memory = Memory()\n",
        "  \n",
        "  for memory in memories:\n",
        "    for step in zip(memory.observations, memory.actions, memory.rewards):\n",
        "      batch_memory.add_to_memory(*step)\n",
        "  \n",
        "  return batch_memory\n",
        "\n",
        "# Instantiate a single Memory buffer\n",
        "memory = Memory()"
      ],
      "execution_count": 11,
      "outputs": []
    },
    {
      "cell_type": "markdown",
      "metadata": {
        "id": "D4YhtPaUVj5m"
      },
      "source": [
        "## 6.3 Reward function\n",
        "\n",
        "We're almost ready to begin the learning algorithm for our agent! The next step is to compute the rewards of our agent as it acts in the environment. Since we (and the agent) is uncertain about if and when the game or task will end (i.e., when the pole will fall), it is useful to emphasize getting rewards **now** rather than later in the future -- this is the idea of discounting. This is a similar concept to discounting money in the case of interest. ecall from lecture, we use reward discount to give more preference at getting rewards now rather than later in the future. The idea of discounting rewards is similar to discounting money in the case of interest.\n",
        "\n",
        "To compute the expected cumulative reward, known as the **return**, at a given timestep in a learning episode, we sum the discounted rewards expected at that time step $t$, within a learning episode, and projecting into the future. We define the return (cumulative reward) at a time step $t$, $R_{t}$ as:\n",
        "\n",
        ">$R_{t}=\\sum_{k=0}^\\infty\\gamma^kr_{t+k}$\n",
        "\n",
        "where  $0 < \\gamma < 1$ is the discount factor and $r_{t}$ is the reward at time step $t$, and the index $k$ increments projection into the future within a single learning episode. Intuitively, you can think of this function as depreciating any rewards received at later time steps, which will force the agent prioritize getting rewards now. Since we can't extend episodes to infinity, in practice the computation will be limited to the number of timesteps in an episode -- after that the reward is assumed to be zero.\n",
        "\n",
        "Take note of the form of this sum -- we'll have to be clever about how we implement this function. Specifically, we'll need to initialize an array of zeros, with length of the number of time steps, and fill it with the real discounted reward values as we loop through the rewards from the episode, which will have been saved in the agents memory. What we ultimately care about is which actions are better relative to other actions taken in that episode -- so, we'll normalize our computed rewards, using the mean and standard deviation of the rewards across the learning episode.\n"
      ]
    },
    {
      "cell_type": "code",
      "metadata": {
        "id": "5_Q2OFYtQ32X"
      },
      "source": [
        "### Reward function ###\n",
        "\n",
        "# Helper function that normalizes an np.array x\n",
        "def normalize(x):\n",
        "  x -= np.mean(x)\n",
        "  x /= np.std(x)\n",
        "  return x.astype(np.float32)\n",
        "\n",
        "# Compute normalized, discounted, cumulative rewards (i.e., return)\n",
        "# Arguments:\n",
        "#   rewards: reward at timesteps in episode\n",
        "#   gamma: discounting factor\n",
        "# Returns:\n",
        "#   normalized discounted reward\n",
        "def discount_rewards(rewards, gamma=0.95): \n",
        "  discounted_rewards = np.zeros_like(rewards)\n",
        "  R = 0\n",
        "  for t in reversed(range(0, len(rewards))):\n",
        "      # update the total discounted reward\n",
        "      R = R * gamma + rewards[t]\n",
        "      discounted_rewards[t] = R\n",
        "      \n",
        "  return normalize(discounted_rewards)"
      ],
      "execution_count": 12,
      "outputs": []
    },
    {
      "cell_type": "markdown",
      "metadata": {
        "id": "QzbY-mjGYcmt"
      },
      "source": [
        "## 6.4 Learning algorithm\n",
        "\n",
        "Now we can start to define the learing algorithm which will be used to reinforce good behaviors of the agent and discourage bad behaviours. In this lab, we will focus on *policy gradient* methods which aim to **maximize** the likelihood of actions that result in large rewards. Equivalently, this means that we want to **minimize** the negative likelihood of these same actions. We achieve this by simply **scaling** (aka multiplying) the probabilities by their associated rewards -- effectively amplifying the likelihood of actions that result in large rewards.\n",
        "\n",
        "Since the log function is monotonically increasing, this means that minimizing **negative likelihood** is equivalent to minimizing **negative log-likelihood**.  Recall that we can easily compute the negative log-likelihood of a discrete action by evaluting its [softmax cross entropy](https://www.tensorflow.org/api_docs/python/tf/nn/sparse_softmax_cross_entropy_with_logits). Like in supervised learning, we can use stochastic gradient descent methods to achieve the desired minimization. \n",
        "\n",
        "Let's begin by defining the loss function."
      ]
    },
    {
      "cell_type": "code",
      "metadata": {
        "id": "fsgZ3IDCY_Zn"
      },
      "source": [
        "### Loss function ###\n",
        "\n",
        "# Arguments:\n",
        "#   logits: network's predictions for actions to take\n",
        "#   actions: the actions the agent took in an episode\n",
        "#   rewards: the rewards the agent received in an episode\n",
        "# Returns:\n",
        "#   loss\n",
        "def compute_loss(logits, actions, rewards): \n",
        "  #'''TODO: complete the function call to compute the negative log probabilities'''\n",
        "  neg_logprob = tf.nn.sparse_softmax_cross_entropy_with_logits(\n",
        "     logits=logits, labels=actions)\n",
        "  \n",
        "  #'''TODO: scale (multiplty) the negative log probability by the rewards'''\n",
        "  loss = tf.reduce_mean( neg_logprob * rewards )\n",
        "  \n",
        "  return loss"
      ],
      "execution_count": 13,
      "outputs": []
    },
    {
      "cell_type": "markdown",
      "metadata": {
        "id": "Rr5vQ9fqbPpp"
      },
      "source": [
        "Now let's use the loss function to define a training step of our learning algorithm:"
      ]
    },
    {
      "cell_type": "code",
      "metadata": {
        "id": "_50ada7nbZ7L"
      },
      "source": [
        "### Training step (forward and backpropagation) ###\n",
        "\n",
        "def train_step(model, optimizer, observations, actions, discounted_rewards):\n",
        "  with tf.GradientTape() as tape:\n",
        "      # Forward propagate through the agent network\n",
        "      logits = model(observations)\n",
        "\n",
        "      #'''TODO: call the compute_loss function to compute the loss'''\n",
        "      loss = compute_loss(logits, actions, discounted_rewards)\n",
        "\n",
        "  # Run backpropagation to minimize the loss using the tape.gradient method\n",
        "  grads = tape.gradient(loss, model.trainable_variables)\n",
        "  optimizer.apply_gradients(zip(grads, model.trainable_variables))\n"
      ],
      "execution_count": 15,
      "outputs": []
    },
    {
      "cell_type": "markdown",
      "metadata": {
        "id": "XsjKXh6BcgjR"
      },
      "source": [
        "## 6.5 Run cartpole!\n",
        "\n",
        "Having had no prior knowledge of the environment, the agent will begin to learn how to balance the pole on the cart based only on the feedback received from the environment! Having defined how our agent can move, how it takes in new observations, and how it updates its state, we'll see how it gradually learns a policy of actions to optimize balancing the pole as long as possible. To do this, we'll track how the rewards evolve as a function of training -- how should the rewards change as training progresses?"
      ]
    },
    {
      "cell_type": "code",
      "metadata": {
        "id": "XmOzc2rrcn8Q",
        "colab": {
          "base_uri": "https://localhost:8080/",
          "height": 541
        },
        "outputId": "b8a88984-503e-433a-f934-8eb48ec1143b"
      },
      "source": [
        "### Cartpole training! ###\n",
        "\n",
        "# Learning rate and optimizer\n",
        "learning_rate = 1e-3\n",
        "optimizer = tf.keras.optimizers.Adam(learning_rate)\n",
        "\n",
        "# instantiate cartpole agent\n",
        "cartpole_model = create_cartpole_model()\n",
        "\n",
        "# to track our progress\n",
        "smoothed_reward = mdl.util.LossHistory(smoothing_factor=0.9)\n",
        "plotter = mdl.util.PeriodicPlotter(sec=2, xlabel='Iterations', ylabel='Rewards')\n",
        "\n",
        "if hasattr(tqdm, '_instances'): tqdm._instances.clear() # clear if it exists\n",
        "for i_episode in range(500):\n",
        "\n",
        "  plotter.plot(smoothed_reward.get())\n",
        "\n",
        "  # Restart the environment\n",
        "  observation = env.reset()\n",
        "  memory.clear()\n",
        "\n",
        "  while True:\n",
        "      # using our observation, choose an action and take it in the environment\n",
        "      action = choose_action(cartpole_model, observation)\n",
        "      next_observation, reward, done, info = env.step(action)\n",
        "      # add to memory\n",
        "      memory.add_to_memory(observation, action, reward)\n",
        "      \n",
        "      # is the episode over? did you crash or do so well that you're done?\n",
        "      if done:\n",
        "          # determine total reward and keep a record of this\n",
        "          total_reward = sum(memory.rewards)\n",
        "          smoothed_reward.append(total_reward)\n",
        "          \n",
        "          # initiate training - remember we don't know anything about how the \n",
        "          #   agent is doing until it has crashed!\n",
        "          train_step(cartpole_model, optimizer, \n",
        "                     observations=np.vstack(memory.observations),\n",
        "                     actions=np.array(memory.actions),\n",
        "                     discounted_rewards = discount_rewards(memory.rewards))\n",
        "          \n",
        "          # reset the memory\n",
        "          memory.clear()\n",
        "          break\n",
        "      # update our observatons\n",
        "      observation = next_observation"
      ],
      "execution_count": 16,
      "outputs": [
        {
          "output_type": "display_data",
          "data": {
            "image/png": "[encoded data removed]",
            "text/plain": [
              "<Figure size 432x288 with 1 Axes>"
            ]
          },
          "metadata": {
            "tags": []
          }
        },
        {
          "output_type": "display_data",
          "data": {
            "image/png": "[encoded data removed]",
            "text/plain": [
              "<Figure size 432x288 with 1 Axes>"
            ]
          },
          "metadata": {
            "tags": [],
            "needs_background": "light"
          }
        }
      ]
    },
    {
      "cell_type": "markdown",
      "metadata": {
        "id": "mkcUtGF1VE-K"
      },
      "source": [
        "To get a sense of how our agent did, we can save a video of the trained model working on balancing the pole. Realize that this is a brand new environment that the agent has not seen before!\n",
        "\n",
        "Let's display the saved video to watch how our agent did!\n"
      ]
    },
    {
      "cell_type": "code",
      "metadata": {
        "id": "PAYBkv6Zbk0J",
        "colab": {
          "base_uri": "https://localhost:8080/",
          "height": 438
        },
        "outputId": "6dc2dbcd-c007-4743-8b7f-70a6c9a1d513"
      },
      "source": [
        "saved_cartpole = mdl.lab3.save_video_of_model(cartpole_model, \"CartPole-v0\")\n",
        "mdl.lab3.play_video(saved_cartpole)"
      ],
      "execution_count": 17,
      "outputs": [
        {
          "output_type": "stream",
          "text": [
            "Successfully saved 200 frames into CartPole-v0.mp4!\n"
          ],
          "name": "stdout"
        },
        {
          "output_type": "execute_result",
          "data": {
            "text/html": [
              "\n",
              "        <video controls >\n",
              "            <source src=\"data:video/mp4;base64,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\" type=\"video/mp4\" />\n",
              "        </video>"
            ],
            "text/plain": [
              "<IPython.core.display.HTML object>"
            ]
          },
          "metadata": {
            "tags": []
          },
          "execution_count": 17
        }
      ]
    },
    {
      "cell_type": "markdown",
      "metadata": {
        "id": "CSbVNDpaVb3_"
      },
      "source": [
        "How does the agent perform? Could you train it for shorter amounts of time and still perform well? Do you think that training longer would help even more? "
      ]
    },
    {
      "cell_type": "markdown",
      "metadata": {
        "id": "3OEdcTe9Yju3"
      },
      "source": [
        "\n",
        "## 6.6 Conclusion\n",
        "\n",
        "That's it! Congratulations on training a cartpole with reinforcement model.\n",
        "\n",
        "Make sure you deliver all the requirements for the submission."
      ]
    }
  ]
}